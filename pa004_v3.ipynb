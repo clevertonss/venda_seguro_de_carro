{
 "cells": [
  {
   "cell_type": "markdown",
   "id": "e016f215",
   "metadata": {},
   "source": [
    "# Imports"
   ]
  },
  {
   "cell_type": "code",
   "execution_count": 73,
   "id": "856b3c62",
   "metadata": {
    "ExecuteTime": {
     "end_time": "2022-04-28T10:04:22.585318Z",
     "start_time": "2022-04-28T10:04:11.206162Z"
    }
   },
   "outputs": [],
   "source": [
    "# Blibliotecas\n",
    "\n",
    "import inflection\n",
    "import numpy         as np\n",
    "import pandas        as pd\n",
    "# import psycopg2      as pg\n",
    "import pandas.io.sql as psql\n",
    "import seaborn       as sns \n",
    "import scikitplot    as skplt\n",
    "import kds\n",
    "\n",
    "\n",
    "\n",
    "from   matplotlib      import pyplot          as plt\n",
    "from   sklearn         import preprocessing   as pp\n",
    "from   sklearn         import model_selection as ms\n",
    "from   sklearn         import ensemble        as en\n",
    "from   sklearn         import neighbors       as nh\n"
   ]
  },
  {
   "cell_type": "code",
   "execution_count": 71,
   "id": "519b0d1d",
   "metadata": {},
   "outputs": [
    {
     "name": "stdout",
     "output_type": "stream",
     "text": [
      "Collecting kds\n",
      "  Downloading kds-0.1.3-py3-none-any.whl (7.4 kB)\n",
      "Requirement already satisfied: numpy>=1.12.0 in /home/cleverton/.pyenv/versions/3.10.0/envs/Health_Ins_Pred/lib/python3.10/site-packages (from kds) (1.23.0)\n",
      "Requirement already satisfied: matplotlib>=1.4.0 in /home/cleverton/.pyenv/versions/3.10.0/envs/Health_Ins_Pred/lib/python3.10/site-packages (from kds) (3.5.2)\n",
      "Requirement already satisfied: pandas>=0.20.0 in /home/cleverton/.pyenv/versions/3.10.0/envs/Health_Ins_Pred/lib/python3.10/site-packages (from kds) (1.4.3)\n",
      "Requirement already satisfied: pyparsing>=2.2.1 in /home/cleverton/.pyenv/versions/3.10.0/envs/Health_Ins_Pred/lib/python3.10/site-packages (from matplotlib>=1.4.0->kds) (3.0.9)\n",
      "Requirement already satisfied: python-dateutil>=2.7 in /home/cleverton/.pyenv/versions/3.10.0/envs/Health_Ins_Pred/lib/python3.10/site-packages (from matplotlib>=1.4.0->kds) (2.8.2)\n",
      "Requirement already satisfied: cycler>=0.10 in /home/cleverton/.pyenv/versions/3.10.0/envs/Health_Ins_Pred/lib/python3.10/site-packages (from matplotlib>=1.4.0->kds) (0.11.0)\n",
      "Requirement already satisfied: pillow>=6.2.0 in /home/cleverton/.pyenv/versions/3.10.0/envs/Health_Ins_Pred/lib/python3.10/site-packages (from matplotlib>=1.4.0->kds) (9.1.1)\n",
      "Requirement already satisfied: kiwisolver>=1.0.1 in /home/cleverton/.pyenv/versions/3.10.0/envs/Health_Ins_Pred/lib/python3.10/site-packages (from matplotlib>=1.4.0->kds) (1.4.3)\n",
      "Requirement already satisfied: packaging>=20.0 in /home/cleverton/.pyenv/versions/3.10.0/envs/Health_Ins_Pred/lib/python3.10/site-packages (from matplotlib>=1.4.0->kds) (21.3)\n",
      "Requirement already satisfied: fonttools>=4.22.0 in /home/cleverton/.pyenv/versions/3.10.0/envs/Health_Ins_Pred/lib/python3.10/site-packages (from matplotlib>=1.4.0->kds) (4.33.3)\n",
      "Requirement already satisfied: pytz>=2020.1 in /home/cleverton/.pyenv/versions/3.10.0/envs/Health_Ins_Pred/lib/python3.10/site-packages (from pandas>=0.20.0->kds) (2022.1)\n",
      "Requirement already satisfied: six>=1.5 in /home/cleverton/.pyenv/versions/3.10.0/envs/Health_Ins_Pred/lib/python3.10/site-packages (from python-dateutil>=2.7->matplotlib>=1.4.0->kds) (1.16.0)\n",
      "Installing collected packages: kds\n",
      "Successfully installed kds-0.1.3\n",
      "\u001b[33mWARNING: You are using pip version 21.2.3; however, version 22.1.2 is available.\n",
      "You should consider upgrading via the '/home/cleverton/.pyenv/versions/3.10.0/envs/Health_Ins_Pred/bin/python3.10 -m pip install --upgrade pip' command.\u001b[0m\n",
      "Note: you may need to restart the kernel to use updated packages.\n"
     ]
    }
   ],
   "source": [
    "pip install kds"
   ]
  },
  {
   "cell_type": "markdown",
   "id": "28ff930c",
   "metadata": {},
   "source": [
    "## 0.1. Helper functions"
   ]
  },
  {
   "cell_type": "code",
   "execution_count": 4,
   "id": "3ca395f3",
   "metadata": {
    "ExecuteTime": {
     "end_time": "2022-04-28T10:04:54.235481Z",
     "start_time": "2022-04-28T10:04:54.211972Z"
    }
   },
   "outputs": [],
   "source": [
    "def jupyter_settings():\n",
    "    %matpoltlib inline\n",
    "    %pylab inline\n",
    "    \n",
    "    plt.style.use('bmh')\n",
    "    plt.rcParams['figure.figsize'] = [20,8]\n",
    "    plt.rcParams['font.size'] = 24\n",
    "    \n",
    "    display( HTML( '<style>.container { width:100% !important; }</style> ' ) )\n",
    "    pd.options.display.max_columns = None\n",
    "    pd.options.display.max_rows = None\n",
    "    pd.set_option('display.expand_frame_repr', False )\n",
    "    \n",
    "    sns.set()"
   ]
  },
  {
   "cell_type": "markdown",
   "id": "41f03af5",
   "metadata": {},
   "source": [
    "# Conexao Banco dados"
   ]
  },
  {
   "cell_type": "markdown",
   "id": "eb145691",
   "metadata": {},
   "source": [
    "## 0.1. Loading Description"
   ]
  },
  {
   "cell_type": "code",
   "execution_count": 5,
   "id": "7be2f3ac",
   "metadata": {
    "ExecuteTime": {
     "end_time": "2022-04-28T10:05:06.629251Z",
     "start_time": "2022-04-28T10:05:05.912156Z"
    }
   },
   "outputs": [],
   "source": [
    "df_raw = pd.read_csv( 'datasets/train.csv')\n"
   ]
  },
  {
   "cell_type": "code",
   "execution_count": 6,
   "id": "70bd80dd",
   "metadata": {
    "ExecuteTime": {
     "end_time": "2022-04-28T10:05:10.536897Z",
     "start_time": "2022-04-28T10:05:10.312344Z"
    }
   },
   "outputs": [
    {
     "data": {
      "text/html": [
       "<div>\n",
       "<style scoped>\n",
       "    .dataframe tbody tr th:only-of-type {\n",
       "        vertical-align: middle;\n",
       "    }\n",
       "\n",
       "    .dataframe tbody tr th {\n",
       "        vertical-align: top;\n",
       "    }\n",
       "\n",
       "    .dataframe thead th {\n",
       "        text-align: right;\n",
       "    }\n",
       "</style>\n",
       "<table border=\"1\" class=\"dataframe\">\n",
       "  <thead>\n",
       "    <tr style=\"text-align: right;\">\n",
       "      <th></th>\n",
       "      <th>Vehicle_Age</th>\n",
       "      <th>0</th>\n",
       "    </tr>\n",
       "  </thead>\n",
       "  <tbody>\n",
       "    <tr>\n",
       "      <th>0</th>\n",
       "      <td>1-2 Year</td>\n",
       "      <td>200316</td>\n",
       "    </tr>\n",
       "    <tr>\n",
       "      <th>1</th>\n",
       "      <td>&lt; 1 Year</td>\n",
       "      <td>164786</td>\n",
       "    </tr>\n",
       "    <tr>\n",
       "      <th>2</th>\n",
       "      <td>&gt; 2 Years</td>\n",
       "      <td>16007</td>\n",
       "    </tr>\n",
       "  </tbody>\n",
       "</table>\n",
       "</div>"
      ],
      "text/plain": [
       "  Vehicle_Age       0\n",
       "0    1-2 Year  200316\n",
       "1    < 1 Year  164786\n",
       "2   > 2 Years   16007"
      ]
     },
     "execution_count": 6,
     "metadata": {},
     "output_type": "execute_result"
    }
   ],
   "source": [
    "df_raw[['Vehicle_Age']].value_counts().reset_index()"
   ]
  },
  {
   "cell_type": "markdown",
   "id": "96668c94",
   "metadata": {
    "heading_collapsed": true
   },
   "source": [
    "# 1.0. Data Description"
   ]
  },
  {
   "cell_type": "code",
   "execution_count": 7,
   "id": "36a14459",
   "metadata": {
    "ExecuteTime": {
     "end_time": "2022-04-12T09:45:43.410811Z",
     "start_time": "2022-04-12T09:45:43.379198Z"
    },
    "hidden": true
   },
   "outputs": [],
   "source": [
    "df1 = df_raw.copy()"
   ]
  },
  {
   "cell_type": "code",
   "execution_count": 8,
   "id": "41f59b77",
   "metadata": {
    "ExecuteTime": {
     "end_time": "2022-04-12T09:45:43.944592Z",
     "start_time": "2022-04-12T09:45:43.939527Z"
    },
    "hidden": true
   },
   "outputs": [],
   "source": [
    "cols_old = ['id', 'Gender', 'Age', 'Driving_License', 'Region_Code',\n",
    "       'Previously_Insured', 'Vehicle_Age', 'Vehicle_Damage', 'Annual_Premium',\n",
    "       'Policy_Sales_Channel', 'Vintage', 'Response']\n",
    "\n",
    "snakecase = lambda x: inflection.underscore( x )\n",
    "\n",
    "cols_news = list( map( snakecase, cols_old ) )\n",
    "\n",
    "df1.columns = cols_news"
   ]
  },
  {
   "cell_type": "markdown",
   "id": "ea60b6cd",
   "metadata": {
    "hidden": true
   },
   "source": [
    "### 1.1. Data Dimension"
   ]
  },
  {
   "cell_type": "code",
   "execution_count": 9,
   "id": "057a74ce",
   "metadata": {
    "ExecuteTime": {
     "end_time": "2022-04-12T09:45:46.870977Z",
     "start_time": "2022-04-12T09:45:46.867152Z"
    },
    "hidden": true
   },
   "outputs": [
    {
     "name": "stdout",
     "output_type": "stream",
     "text": [
      "Numero de linhas: 381109\n",
      "Numero de colunas: 12\n"
     ]
    }
   ],
   "source": [
    "print( 'Numero de linhas: {}'.format( df1.shape[0] ) )\n",
    "print( 'Numero de colunas: {}'.format( df1.shape[1] ) )"
   ]
  },
  {
   "cell_type": "markdown",
   "id": "36cdebc9",
   "metadata": {
    "hidden": true
   },
   "source": [
    "### 1.2. Data Types"
   ]
  },
  {
   "cell_type": "code",
   "execution_count": 10,
   "id": "73cb0018",
   "metadata": {
    "ExecuteTime": {
     "end_time": "2022-04-12T09:45:48.760202Z",
     "start_time": "2022-04-12T09:45:48.755014Z"
    },
    "hidden": true
   },
   "outputs": [
    {
     "data": {
      "text/plain": [
       "id                        int64\n",
       "gender                   object\n",
       "age                       int64\n",
       "driving_license           int64\n",
       "region_code             float64\n",
       "previously_insured        int64\n",
       "vehicle_age              object\n",
       "vehicle_damage           object\n",
       "annual_premium          float64\n",
       "policy_sales_channel    float64\n",
       "vintage                   int64\n",
       "response                  int64\n",
       "dtype: object"
      ]
     },
     "execution_count": 10,
     "metadata": {},
     "output_type": "execute_result"
    }
   ],
   "source": [
    "df1.dtypes"
   ]
  },
  {
   "cell_type": "markdown",
   "id": "17775215",
   "metadata": {
    "hidden": true
   },
   "source": [
    "### 1.3. Check NA"
   ]
  },
  {
   "cell_type": "code",
   "execution_count": 11,
   "id": "eab86b89",
   "metadata": {
    "ExecuteTime": {
     "end_time": "2022-04-12T09:46:01.317883Z",
     "start_time": "2022-04-12T09:46:01.257693Z"
    },
    "hidden": true
   },
   "outputs": [
    {
     "data": {
      "text/plain": [
       "id                      0\n",
       "gender                  0\n",
       "age                     0\n",
       "driving_license         0\n",
       "region_code             0\n",
       "previously_insured      0\n",
       "vehicle_age             0\n",
       "vehicle_damage          0\n",
       "annual_premium          0\n",
       "policy_sales_channel    0\n",
       "vintage                 0\n",
       "response                0\n",
       "dtype: int64"
      ]
     },
     "execution_count": 11,
     "metadata": {},
     "output_type": "execute_result"
    }
   ],
   "source": [
    "df1.isna().sum()"
   ]
  },
  {
   "cell_type": "markdown",
   "id": "d28656c5",
   "metadata": {
    "hidden": true
   },
   "source": [
    "### 1.4. Data Descriptive"
   ]
  },
  {
   "cell_type": "code",
   "execution_count": 12,
   "id": "916e3775",
   "metadata": {
    "ExecuteTime": {
     "end_time": "2022-04-12T09:46:02.677285Z",
     "start_time": "2022-04-12T09:46:02.657513Z"
    },
    "hidden": true
   },
   "outputs": [],
   "source": [
    "num_attributes = df1.select_dtypes( include=[ 'int64', 'float64'] )\n",
    "cat_attributes = df1.select_dtypes( exclude=[ 'int64', 'float64', 'datetime64[ns]'] )"
   ]
  },
  {
   "cell_type": "code",
   "execution_count": 13,
   "id": "c19553b9",
   "metadata": {
    "ExecuteTime": {
     "end_time": "2022-04-12T09:46:04.087183Z",
     "start_time": "2022-04-12T09:46:03.406605Z"
    },
    "hidden": true
   },
   "outputs": [
    {
     "data": {
      "text/html": [
       "<div>\n",
       "<style scoped>\n",
       "    .dataframe tbody tr th:only-of-type {\n",
       "        vertical-align: middle;\n",
       "    }\n",
       "\n",
       "    .dataframe tbody tr th {\n",
       "        vertical-align: top;\n",
       "    }\n",
       "\n",
       "    .dataframe thead th {\n",
       "        text-align: right;\n",
       "    }\n",
       "</style>\n",
       "<table border=\"1\" class=\"dataframe\">\n",
       "  <thead>\n",
       "    <tr style=\"text-align: right;\">\n",
       "      <th></th>\n",
       "      <th>attributes</th>\n",
       "      <th>min</th>\n",
       "      <th>max</th>\n",
       "      <th>range</th>\n",
       "      <th>mean</th>\n",
       "      <th>median</th>\n",
       "      <th>std</th>\n",
       "      <th>skew</th>\n",
       "      <th>kurtosis</th>\n",
       "    </tr>\n",
       "  </thead>\n",
       "  <tbody>\n",
       "    <tr>\n",
       "      <th>0</th>\n",
       "      <td>id</td>\n",
       "      <td>1.0</td>\n",
       "      <td>381109.0</td>\n",
       "      <td>381108.0</td>\n",
       "      <td>190555.000000</td>\n",
       "      <td>190555.0</td>\n",
       "      <td>110016.691870</td>\n",
       "      <td>9.443274e-16</td>\n",
       "      <td>-1.200000</td>\n",
       "    </tr>\n",
       "    <tr>\n",
       "      <th>1</th>\n",
       "      <td>age</td>\n",
       "      <td>20.0</td>\n",
       "      <td>85.0</td>\n",
       "      <td>65.0</td>\n",
       "      <td>38.822584</td>\n",
       "      <td>36.0</td>\n",
       "      <td>15.511591</td>\n",
       "      <td>6.725390e-01</td>\n",
       "      <td>-0.565655</td>\n",
       "    </tr>\n",
       "    <tr>\n",
       "      <th>2</th>\n",
       "      <td>driving_license</td>\n",
       "      <td>0.0</td>\n",
       "      <td>1.0</td>\n",
       "      <td>1.0</td>\n",
       "      <td>0.997869</td>\n",
       "      <td>1.0</td>\n",
       "      <td>0.046109</td>\n",
       "      <td>-2.159518e+01</td>\n",
       "      <td>464.354302</td>\n",
       "    </tr>\n",
       "    <tr>\n",
       "      <th>3</th>\n",
       "      <td>region_code</td>\n",
       "      <td>0.0</td>\n",
       "      <td>52.0</td>\n",
       "      <td>52.0</td>\n",
       "      <td>26.388807</td>\n",
       "      <td>28.0</td>\n",
       "      <td>13.229871</td>\n",
       "      <td>-1.152664e-01</td>\n",
       "      <td>-0.867857</td>\n",
       "    </tr>\n",
       "    <tr>\n",
       "      <th>4</th>\n",
       "      <td>previously_insured</td>\n",
       "      <td>0.0</td>\n",
       "      <td>1.0</td>\n",
       "      <td>1.0</td>\n",
       "      <td>0.458210</td>\n",
       "      <td>0.0</td>\n",
       "      <td>0.498251</td>\n",
       "      <td>1.677471e-01</td>\n",
       "      <td>-1.971871</td>\n",
       "    </tr>\n",
       "    <tr>\n",
       "      <th>5</th>\n",
       "      <td>annual_premium</td>\n",
       "      <td>2630.0</td>\n",
       "      <td>540165.0</td>\n",
       "      <td>537535.0</td>\n",
       "      <td>30564.389581</td>\n",
       "      <td>31669.0</td>\n",
       "      <td>17213.132474</td>\n",
       "      <td>1.766087e+00</td>\n",
       "      <td>34.004569</td>\n",
       "    </tr>\n",
       "    <tr>\n",
       "      <th>6</th>\n",
       "      <td>policy_sales_channel</td>\n",
       "      <td>1.0</td>\n",
       "      <td>163.0</td>\n",
       "      <td>162.0</td>\n",
       "      <td>112.034295</td>\n",
       "      <td>133.0</td>\n",
       "      <td>54.203924</td>\n",
       "      <td>-9.000081e-01</td>\n",
       "      <td>-0.970810</td>\n",
       "    </tr>\n",
       "    <tr>\n",
       "      <th>7</th>\n",
       "      <td>vintage</td>\n",
       "      <td>10.0</td>\n",
       "      <td>299.0</td>\n",
       "      <td>289.0</td>\n",
       "      <td>154.347397</td>\n",
       "      <td>154.0</td>\n",
       "      <td>83.671194</td>\n",
       "      <td>3.029517e-03</td>\n",
       "      <td>-1.200688</td>\n",
       "    </tr>\n",
       "    <tr>\n",
       "      <th>8</th>\n",
       "      <td>response</td>\n",
       "      <td>0.0</td>\n",
       "      <td>1.0</td>\n",
       "      <td>1.0</td>\n",
       "      <td>0.122563</td>\n",
       "      <td>0.0</td>\n",
       "      <td>0.327935</td>\n",
       "      <td>2.301906e+00</td>\n",
       "      <td>3.298788</td>\n",
       "    </tr>\n",
       "  </tbody>\n",
       "</table>\n",
       "</div>"
      ],
      "text/plain": [
       "             attributes     min       max     range           mean    median  \\\n",
       "0                    id     1.0  381109.0  381108.0  190555.000000  190555.0   \n",
       "1                   age    20.0      85.0      65.0      38.822584      36.0   \n",
       "2       driving_license     0.0       1.0       1.0       0.997869       1.0   \n",
       "3           region_code     0.0      52.0      52.0      26.388807      28.0   \n",
       "4    previously_insured     0.0       1.0       1.0       0.458210       0.0   \n",
       "5        annual_premium  2630.0  540165.0  537535.0   30564.389581   31669.0   \n",
       "6  policy_sales_channel     1.0     163.0     162.0     112.034295     133.0   \n",
       "7               vintage    10.0     299.0     289.0     154.347397     154.0   \n",
       "8              response     0.0       1.0       1.0       0.122563       0.0   \n",
       "\n",
       "             std          skew    kurtosis  \n",
       "0  110016.691870  9.443274e-16   -1.200000  \n",
       "1      15.511591  6.725390e-01   -0.565655  \n",
       "2       0.046109 -2.159518e+01  464.354302  \n",
       "3      13.229871 -1.152664e-01   -0.867857  \n",
       "4       0.498251  1.677471e-01   -1.971871  \n",
       "5   17213.132474  1.766087e+00   34.004569  \n",
       "6      54.203924 -9.000081e-01   -0.970810  \n",
       "7      83.671194  3.029517e-03   -1.200688  \n",
       "8       0.327935  2.301906e+00    3.298788  "
      ]
     },
     "execution_count": 13,
     "metadata": {},
     "output_type": "execute_result"
    }
   ],
   "source": [
    "# Central de tendencia - Media / Mediana\n",
    "ct1 = pd.DataFrame( num_attributes.apply( np.mean ) ).T # Media\n",
    "ct2 = pd.DataFrame( num_attributes.apply( np.median ) ).T # Mediana\n",
    "\n",
    "# Dispersion - std, min, max, range, sken, kurtosis\n",
    "\n",
    "d1 = pd.DataFrame( num_attributes.apply( np.std ) ).T\n",
    "d2 = pd.DataFrame( num_attributes.apply( min ) ).T\n",
    "d3 = pd.DataFrame( num_attributes.apply( max ) ).T\n",
    "d4 = pd.DataFrame( num_attributes.apply( lambda x: x.max() - x.min() ) ).T\n",
    "\n",
    "\n",
    "d5 = pd.DataFrame( num_attributes.apply( lambda x: x.skew() ) ).T\n",
    "d6 = pd.DataFrame( num_attributes.apply( lambda x: x.kurtosis() ) ).T\n",
    "\n",
    "# Concatenar\n",
    "m = pd.concat( [d2, d3, d4, ct1, ct2, d1, d5, d6 ] ).T.reset_index()\n",
    "m.columns = [ 'attributes', 'min', 'max', 'range', 'mean', 'median', 'std', 'skew', 'kurtosis']\n",
    "\n",
    "m\n"
   ]
  },
  {
   "cell_type": "markdown",
   "id": "08abcc6c",
   "metadata": {
    "heading_collapsed": true
   },
   "source": [
    "# 2.0. Feature Engineering"
   ]
  },
  {
   "cell_type": "code",
   "execution_count": 14,
   "id": "53511e58",
   "metadata": {
    "ExecuteTime": {
     "end_time": "2022-04-12T09:46:06.012596Z",
     "start_time": "2022-04-12T09:46:05.955598Z"
    },
    "hidden": true
   },
   "outputs": [
    {
     "data": {
      "text/html": [
       "<div>\n",
       "<style scoped>\n",
       "    .dataframe tbody tr th:only-of-type {\n",
       "        vertical-align: middle;\n",
       "    }\n",
       "\n",
       "    .dataframe tbody tr th {\n",
       "        vertical-align: top;\n",
       "    }\n",
       "\n",
       "    .dataframe thead th {\n",
       "        text-align: right;\n",
       "    }\n",
       "</style>\n",
       "<table border=\"1\" class=\"dataframe\">\n",
       "  <thead>\n",
       "    <tr style=\"text-align: right;\">\n",
       "      <th></th>\n",
       "      <th>vehicle_age</th>\n",
       "      <th>0</th>\n",
       "    </tr>\n",
       "  </thead>\n",
       "  <tbody>\n",
       "    <tr>\n",
       "      <th>0</th>\n",
       "      <td>1-2 Year</td>\n",
       "      <td>200316</td>\n",
       "    </tr>\n",
       "    <tr>\n",
       "      <th>1</th>\n",
       "      <td>&lt; 1 Year</td>\n",
       "      <td>164786</td>\n",
       "    </tr>\n",
       "    <tr>\n",
       "      <th>2</th>\n",
       "      <td>&gt; 2 Years</td>\n",
       "      <td>16007</td>\n",
       "    </tr>\n",
       "  </tbody>\n",
       "</table>\n",
       "</div>"
      ],
      "text/plain": [
       "  vehicle_age       0\n",
       "0    1-2 Year  200316\n",
       "1    < 1 Year  164786\n",
       "2   > 2 Years   16007"
      ]
     },
     "execution_count": 14,
     "metadata": {},
     "output_type": "execute_result"
    }
   ],
   "source": [
    "df1[['vehicle_age']].value_counts().reset_index()"
   ]
  },
  {
   "cell_type": "code",
   "execution_count": 15,
   "id": "24de11c9",
   "metadata": {
    "ExecuteTime": {
     "end_time": "2022-04-12T09:46:06.826913Z",
     "start_time": "2022-04-12T09:46:06.624152Z"
    },
    "hidden": true
   },
   "outputs": [],
   "source": [
    "# vehicle age\n",
    "df1['vehicle_age'] = df1['vehicle_age'].apply( lambda x: 'over_2_years' if x == '> 2 Years' \n",
    "                                               else 'between_1_2_years' if x == '1-2 Year' \n",
    "                                               else 'below_1_year')\n",
    "\n",
    "# vehicle damage\n",
    "df1['vehicle_damage'] = df1['vehicle_damage'].apply( lambda x: 1 if x == 'Yes' else 0 )"
   ]
  },
  {
   "cell_type": "code",
   "execution_count": 16,
   "id": "e5a7c4bd",
   "metadata": {
    "ExecuteTime": {
     "end_time": "2022-04-12T09:46:07.095704Z",
     "start_time": "2022-04-12T09:46:07.024445Z"
    },
    "hidden": true
   },
   "outputs": [
    {
     "data": {
      "text/html": [
       "<div>\n",
       "<style scoped>\n",
       "    .dataframe tbody tr th:only-of-type {\n",
       "        vertical-align: middle;\n",
       "    }\n",
       "\n",
       "    .dataframe tbody tr th {\n",
       "        vertical-align: top;\n",
       "    }\n",
       "\n",
       "    .dataframe thead th {\n",
       "        text-align: right;\n",
       "    }\n",
       "</style>\n",
       "<table border=\"1\" class=\"dataframe\">\n",
       "  <thead>\n",
       "    <tr style=\"text-align: right;\">\n",
       "      <th></th>\n",
       "      <th>vehicle_age</th>\n",
       "      <th>response</th>\n",
       "      <th>0</th>\n",
       "    </tr>\n",
       "  </thead>\n",
       "  <tbody>\n",
       "    <tr>\n",
       "      <th>0</th>\n",
       "      <td>between_1_2_years</td>\n",
       "      <td>0</td>\n",
       "      <td>0.434285</td>\n",
       "    </tr>\n",
       "    <tr>\n",
       "      <th>1</th>\n",
       "      <td>below_1_year</td>\n",
       "      <td>0</td>\n",
       "      <td>0.413488</td>\n",
       "    </tr>\n",
       "    <tr>\n",
       "      <th>2</th>\n",
       "      <td>between_1_2_years</td>\n",
       "      <td>1</td>\n",
       "      <td>0.091328</td>\n",
       "    </tr>\n",
       "    <tr>\n",
       "      <th>3</th>\n",
       "      <td>over_2_years</td>\n",
       "      <td>0</td>\n",
       "      <td>0.029663</td>\n",
       "    </tr>\n",
       "    <tr>\n",
       "      <th>4</th>\n",
       "      <td>below_1_year</td>\n",
       "      <td>1</td>\n",
       "      <td>0.018897</td>\n",
       "    </tr>\n",
       "    <tr>\n",
       "      <th>5</th>\n",
       "      <td>over_2_years</td>\n",
       "      <td>1</td>\n",
       "      <td>0.012338</td>\n",
       "    </tr>\n",
       "  </tbody>\n",
       "</table>\n",
       "</div>"
      ],
      "text/plain": [
       "         vehicle_age  response         0\n",
       "0  between_1_2_years         0  0.434285\n",
       "1       below_1_year         0  0.413488\n",
       "2  between_1_2_years         1  0.091328\n",
       "3       over_2_years         0  0.029663\n",
       "4       below_1_year         1  0.018897\n",
       "5       over_2_years         1  0.012338"
      ]
     },
     "execution_count": 16,
     "metadata": {},
     "output_type": "execute_result"
    }
   ],
   "source": [
    "df1[['vehicle_age', 'response']].value_counts( normalize=True).reset_index()"
   ]
  },
  {
   "cell_type": "markdown",
   "id": "b14805d1",
   "metadata": {
    "heading_collapsed": true
   },
   "source": [
    "# 3.0. Data Filtering"
   ]
  },
  {
   "cell_type": "markdown",
   "id": "7dadf67c",
   "metadata": {
    "heading_collapsed": true
   },
   "source": [
    "# 4.0. EDA"
   ]
  },
  {
   "cell_type": "markdown",
   "id": "f304bdfa",
   "metadata": {
    "hidden": true
   },
   "source": [
    "## 4.1. Univariate Analysis"
   ]
  },
  {
   "cell_type": "code",
   "execution_count": 17,
   "id": "0b35a1c9",
   "metadata": {
    "ExecuteTime": {
     "end_time": "2022-04-12T09:46:10.174772Z",
     "start_time": "2022-04-12T09:46:09.722896Z"
    },
    "code_folding": [],
    "hidden": true
   },
   "outputs": [
    {
     "data": {
      "image/png": "[encoded data removed]",
      "text/plain": [
       "<Figure size 432x288 with 1 Axes>"
      ]
     },
     "metadata": {
      "needs_background": "light"
     },
     "output_type": "display_data"
    }
   ],
   "source": [
    "#Age\n",
    "sns.boxplot( x='response', y='age', data=df1)\n",
    "plt.title( ' Respostas dos clientes')\n",
    "ax = plt.subplot()\n",
    "# ax = ax.set_yticklabels(['Idade'])\n",
    "ax = ax.set_xticklabels(['No', 'Yes'])"
   ]
  },
  {
   "cell_type": "code",
   "execution_count": 18,
   "id": "4a116d34",
   "metadata": {
    "ExecuteTime": {
     "end_time": "2022-04-12T09:46:10.628749Z",
     "start_time": "2022-04-12T09:46:10.252068Z"
    },
    "cell_style": "split",
    "hidden": true
   },
   "outputs": [
    {
     "data": {
      "text/plain": [
       "<AxesSubplot:xlabel='age', ylabel='Count'>"
      ]
     },
     "execution_count": 18,
     "metadata": {},
     "output_type": "execute_result"
    },
    {
     "data": {
      "image/png": "[encoded data removed]",
      "text/plain": [
       "<Figure size 432x288 with 1 Axes>"
      ]
     },
     "metadata": {
      "needs_background": "light"
     },
     "output_type": "display_data"
    }
   ],
   "source": [
    "aux00 = df1.loc[df1['response'] == 0, 'age']\n",
    "sns.histplot( aux00 )"
   ]
  },
  {
   "cell_type": "code",
   "execution_count": 19,
   "id": "fe3da0c3",
   "metadata": {
    "ExecuteTime": {
     "end_time": "2022-04-12T09:46:11.111361Z",
     "start_time": "2022-04-12T09:46:10.695462Z"
    },
    "cell_style": "split",
    "hidden": true
   },
   "outputs": [
    {
     "data": {
      "text/plain": [
       "<AxesSubplot:xlabel='age', ylabel='Count'>"
      ]
     },
     "execution_count": 19,
     "metadata": {},
     "output_type": "execute_result"
    },
    {
     "data": {
      "image/png": "[encoded data removed]",
      "text/plain": [
       "<Figure size 432x288 with 1 Axes>"
      ]
     },
     "metadata": {
      "needs_background": "light"
     },
     "output_type": "display_data"
    }
   ],
   "source": [
    "aux01 = df1.loc[ df1[ 'response' ] == 1, 'age' ]\n",
    "sns.histplot( aux01 )"
   ]
  },
  {
   "cell_type": "code",
   "execution_count": 20,
   "id": "2f7e707b",
   "metadata": {
    "ExecuteTime": {
     "end_time": "2022-04-12T09:46:11.800916Z",
     "start_time": "2022-04-12T09:46:11.226572Z"
    },
    "cell_style": "split",
    "hidden": true
   },
   "outputs": [
    {
     "data": {
      "text/plain": [
       "<AxesSubplot:xlabel='annual_premium', ylabel='Count'>"
      ]
     },
     "execution_count": 20,
     "metadata": {},
     "output_type": "execute_result"
    },
    {
     "data": {
      "image/png": "[encoded data removed]",
      "text/plain": [
       "<Figure size 432x288 with 1 Axes>"
      ]
     },
     "metadata": {
      "needs_background": "light"
     },
     "output_type": "display_data"
    }
   ],
   "source": [
    "#Annual_Premium\n",
    "aux = df1[( df1[ 'annual_premium' ] > 10000 ) & ( df1[ 'annual_premium' ] < 80000 ) ]\n",
    "aux00 = aux.loc[ aux[ 'response' ] == 0, 'annual_premium' ]\n",
    "sns.histplot( aux00 )"
   ]
  },
  {
   "cell_type": "code",
   "execution_count": 21,
   "id": "9fafe3bc",
   "metadata": {
    "ExecuteTime": {
     "end_time": "2022-04-12T09:46:12.212815Z",
     "start_time": "2022-04-12T09:46:11.803734Z"
    },
    "cell_style": "split",
    "hidden": true,
    "scrolled": true
   },
   "outputs": [
    {
     "data": {
      "text/plain": [
       "<AxesSubplot:xlabel='annual_premium', ylabel='Count'>"
      ]
     },
     "execution_count": 21,
     "metadata": {},
     "output_type": "execute_result"
    },
    {
     "data": {
      "image/png": "[encoded data removed]",
      "text/plain": [
       "<Figure size 432x288 with 1 Axes>"
      ]
     },
     "metadata": {
      "needs_background": "light"
     },
     "output_type": "display_data"
    }
   ],
   "source": [
    "aux00 = aux.loc[ aux[ 'response' ] == 1, 'annual_premium' ]\n",
    "sns.histplot( aux00 )\n",
    "\n"
   ]
  },
  {
   "cell_type": "code",
   "execution_count": 22,
   "id": "ef7e9b93",
   "metadata": {
    "ExecuteTime": {
     "end_time": "2022-04-12T09:46:12.458529Z",
     "start_time": "2022-04-12T09:46:12.215062Z"
    },
    "cell_style": "center",
    "hidden": true
   },
   "outputs": [
    {
     "data": {
      "image/png": "[encoded data removed]",
      "text/plain": [
       "<Figure size 432x288 with 1 Axes>"
      ]
     },
     "metadata": {
      "needs_background": "light"
     },
     "output_type": "display_data"
    }
   ],
   "source": [
    "# Driving_License\n",
    "aux = df1[['driving_license', 'response']].groupby( 'response' ).sum().reset_index()\n",
    "sns.barplot( x = 'response', y = 'driving_license', data=aux )\n",
    "plt.title('driving_license( Yes/No ) ')\n",
    "ax = plt.subplot()\n",
    "ax = ax.set_xticklabels([\"No\",\"Yes\"])\n",
    "\n"
   ]
  },
  {
   "cell_type": "code",
   "execution_count": 23,
   "id": "481586b0",
   "metadata": {
    "ExecuteTime": {
     "end_time": "2022-04-12T09:46:12.619334Z",
     "start_time": "2022-04-12T09:46:12.609197Z"
    },
    "cell_style": "split",
    "hidden": true
   },
   "outputs": [
    {
     "data": {
      "text/html": [
       "<div>\n",
       "<style scoped>\n",
       "    .dataframe tbody tr th:only-of-type {\n",
       "        vertical-align: middle;\n",
       "    }\n",
       "\n",
       "    .dataframe tbody tr th {\n",
       "        vertical-align: top;\n",
       "    }\n",
       "\n",
       "    .dataframe thead th {\n",
       "        text-align: right;\n",
       "    }\n",
       "</style>\n",
       "<table border=\"1\" class=\"dataframe\">\n",
       "  <thead>\n",
       "    <tr style=\"text-align: right;\">\n",
       "      <th></th>\n",
       "      <th>response</th>\n",
       "      <th>driving_license</th>\n",
       "    </tr>\n",
       "  </thead>\n",
       "  <tbody>\n",
       "    <tr>\n",
       "      <th>0</th>\n",
       "      <td>0</td>\n",
       "      <td>333628</td>\n",
       "    </tr>\n",
       "    <tr>\n",
       "      <th>1</th>\n",
       "      <td>1</td>\n",
       "      <td>46669</td>\n",
       "    </tr>\n",
       "  </tbody>\n",
       "</table>\n",
       "</div>"
      ],
      "text/plain": [
       "   response  driving_license\n",
       "0         0           333628\n",
       "1         1            46669"
      ]
     },
     "execution_count": 23,
     "metadata": {},
     "output_type": "execute_result"
    }
   ],
   "source": [
    "# Quantidade de pessoas que tem ou não habilitação\n",
    "aux.head()"
   ]
  },
  {
   "cell_type": "code",
   "execution_count": 24,
   "id": "b4407719",
   "metadata": {
    "ExecuteTime": {
     "end_time": "2022-04-12T09:46:13.389873Z",
     "start_time": "2022-04-12T09:46:13.362452Z"
    },
    "cell_style": "split",
    "hidden": true,
    "scrolled": true
   },
   "outputs": [
    {
     "data": {
      "text/html": [
       "<div>\n",
       "<style scoped>\n",
       "    .dataframe tbody tr th:only-of-type {\n",
       "        vertical-align: middle;\n",
       "    }\n",
       "\n",
       "    .dataframe tbody tr th {\n",
       "        vertical-align: top;\n",
       "    }\n",
       "\n",
       "    .dataframe thead th {\n",
       "        text-align: right;\n",
       "    }\n",
       "</style>\n",
       "<table border=\"1\" class=\"dataframe\">\n",
       "  <thead>\n",
       "    <tr style=\"text-align: right;\">\n",
       "      <th></th>\n",
       "      <th>response</th>\n",
       "      <th>driving_license</th>\n",
       "    </tr>\n",
       "  </thead>\n",
       "  <tbody>\n",
       "    <tr>\n",
       "      <th>0</th>\n",
       "      <td>0</td>\n",
       "      <td>0.877283</td>\n",
       "    </tr>\n",
       "    <tr>\n",
       "      <th>1</th>\n",
       "      <td>1</td>\n",
       "      <td>0.122717</td>\n",
       "    </tr>\n",
       "  </tbody>\n",
       "</table>\n",
       "</div>"
      ],
      "text/plain": [
       "   response  driving_license\n",
       "0         0         0.877283\n",
       "1         1         0.122717"
      ]
     },
     "execution_count": 24,
     "metadata": {},
     "output_type": "execute_result"
    }
   ],
   "source": [
    "# Quantidade de pessoas que tem ou não habilitação percentual\n",
    "aux['driving_license'] = aux['driving_license'] / aux['driving_license'].sum()\n",
    "aux.head()"
   ]
  },
  {
   "cell_type": "code",
   "execution_count": null,
   "id": "54cddc00",
   "metadata": {
    "hidden": true
   },
   "outputs": [],
   "source": []
  },
  {
   "cell_type": "code",
   "execution_count": 25,
   "id": "1fb80f2c",
   "metadata": {
    "ExecuteTime": {
     "end_time": "2022-04-12T09:46:14.880075Z",
     "start_time": "2022-04-12T09:46:14.870744Z"
    },
    "hidden": true
   },
   "outputs": [],
   "source": [
    "#Gender"
   ]
  },
  {
   "cell_type": "code",
   "execution_count": 26,
   "id": "7f8424ff",
   "metadata": {
    "ExecuteTime": {
     "end_time": "2022-04-12T09:46:16.285888Z",
     "start_time": "2022-04-12T09:46:15.957020Z"
    },
    "hidden": true
   },
   "outputs": [
    {
     "data": {
      "text/plain": [
       "<AxesSubplot:xlabel='region_code', ylabel='id'>"
      ]
     },
     "execution_count": 26,
     "metadata": {},
     "output_type": "execute_result"
    },
    {
     "data": {
      "image/png": "[encoded data removed]",
      "text/plain": [
       "<Figure size 432x288 with 1 Axes>"
      ]
     },
     "metadata": {
      "needs_background": "light"
     },
     "output_type": "display_data"
    }
   ],
   "source": [
    "#Region_Code\n",
    "aux0 = df1[['id', 'region_code', 'response']].groupby( ['region_code', 'response']).count().reset_index()\n",
    "sns.scatterplot( x='region_code', y='id', hue='response', data=aux0)"
   ]
  },
  {
   "cell_type": "code",
   "execution_count": 27,
   "id": "4a706922",
   "metadata": {
    "ExecuteTime": {
     "end_time": "2022-04-12T09:46:17.121020Z",
     "start_time": "2022-04-12T09:46:16.866285Z"
    },
    "hidden": true
   },
   "outputs": [
    {
     "data": {
      "text/html": [
       "<div>\n",
       "<style scoped>\n",
       "    .dataframe tbody tr th:only-of-type {\n",
       "        vertical-align: middle;\n",
       "    }\n",
       "\n",
       "    .dataframe tbody tr th {\n",
       "        vertical-align: top;\n",
       "    }\n",
       "\n",
       "    .dataframe thead th {\n",
       "        text-align: right;\n",
       "    }\n",
       "</style>\n",
       "<table border=\"1\" class=\"dataframe\">\n",
       "  <thead>\n",
       "    <tr style=\"text-align: right;\">\n",
       "      <th>response</th>\n",
       "      <th>0</th>\n",
       "      <th>1</th>\n",
       "    </tr>\n",
       "    <tr>\n",
       "      <th>previously_insured</th>\n",
       "      <th></th>\n",
       "      <th></th>\n",
       "    </tr>\n",
       "  </thead>\n",
       "  <tbody>\n",
       "    <tr>\n",
       "      <th>0</th>\n",
       "      <td>0.774546</td>\n",
       "      <td>0.225454</td>\n",
       "    </tr>\n",
       "    <tr>\n",
       "      <th>1</th>\n",
       "      <td>0.999095</td>\n",
       "      <td>0.000905</td>\n",
       "    </tr>\n",
       "  </tbody>\n",
       "</table>\n",
       "</div>"
      ],
      "text/plain": [
       "response                   0         1\n",
       "previously_insured                    \n",
       "0                   0.774546  0.225454\n",
       "1                   0.999095  0.000905"
      ]
     },
     "execution_count": 27,
     "metadata": {},
     "output_type": "execute_result"
    }
   ],
   "source": [
    "#Previously_Insured \n",
    "pd.crosstab( df1['previously_insured'], df1['response'] ).apply( lambda x: x / x.sum(), axis=1 )\n",
    "# sns.barplot( x = 'previously_insured', y = 'response', data=aux1)"
   ]
  },
  {
   "cell_type": "code",
   "execution_count": 28,
   "id": "9f38234f",
   "metadata": {
    "ExecuteTime": {
     "end_time": "2022-04-12T09:46:17.747701Z",
     "start_time": "2022-04-12T09:46:17.682310Z"
    },
    "hidden": true
   },
   "outputs": [
    {
     "data": {
      "text/html": [
       "<div>\n",
       "<style scoped>\n",
       "    .dataframe tbody tr th:only-of-type {\n",
       "        vertical-align: middle;\n",
       "    }\n",
       "\n",
       "    .dataframe tbody tr th {\n",
       "        vertical-align: top;\n",
       "    }\n",
       "\n",
       "    .dataframe thead th {\n",
       "        text-align: right;\n",
       "    }\n",
       "</style>\n",
       "<table border=\"1\" class=\"dataframe\">\n",
       "  <thead>\n",
       "    <tr style=\"text-align: right;\">\n",
       "      <th></th>\n",
       "      <th>vehicle_age</th>\n",
       "      <th>response</th>\n",
       "      <th>0</th>\n",
       "    </tr>\n",
       "  </thead>\n",
       "  <tbody>\n",
       "    <tr>\n",
       "      <th>0</th>\n",
       "      <td>between_1_2_years</td>\n",
       "      <td>0</td>\n",
       "      <td>0.434285</td>\n",
       "    </tr>\n",
       "    <tr>\n",
       "      <th>1</th>\n",
       "      <td>below_1_year</td>\n",
       "      <td>0</td>\n",
       "      <td>0.413488</td>\n",
       "    </tr>\n",
       "    <tr>\n",
       "      <th>2</th>\n",
       "      <td>between_1_2_years</td>\n",
       "      <td>1</td>\n",
       "      <td>0.091328</td>\n",
       "    </tr>\n",
       "    <tr>\n",
       "      <th>3</th>\n",
       "      <td>over_2_years</td>\n",
       "      <td>0</td>\n",
       "      <td>0.029663</td>\n",
       "    </tr>\n",
       "    <tr>\n",
       "      <th>4</th>\n",
       "      <td>below_1_year</td>\n",
       "      <td>1</td>\n",
       "      <td>0.018897</td>\n",
       "    </tr>\n",
       "    <tr>\n",
       "      <th>5</th>\n",
       "      <td>over_2_years</td>\n",
       "      <td>1</td>\n",
       "      <td>0.012338</td>\n",
       "    </tr>\n",
       "  </tbody>\n",
       "</table>\n",
       "</div>"
      ],
      "text/plain": [
       "         vehicle_age  response         0\n",
       "0  between_1_2_years         0  0.434285\n",
       "1       below_1_year         0  0.413488\n",
       "2  between_1_2_years         1  0.091328\n",
       "3       over_2_years         0  0.029663\n",
       "4       below_1_year         1  0.018897\n",
       "5       over_2_years         1  0.012338"
      ]
     },
     "execution_count": 28,
     "metadata": {},
     "output_type": "execute_result"
    }
   ],
   "source": [
    "#Vehicle_Age - Porcentagem\n",
    "df1[['vehicle_age', 'response']].value_counts( normalize=True ).reset_index() # Normalize coloca em porcentagem\n"
   ]
  },
  {
   "cell_type": "code",
   "execution_count": 29,
   "id": "f81d666b",
   "metadata": {
    "ExecuteTime": {
     "end_time": "2022-04-12T09:46:18.141530Z",
     "start_time": "2022-04-12T09:46:18.137934Z"
    },
    "hidden": true
   },
   "outputs": [],
   "source": [
    "#Vehicle_Damage"
   ]
  },
  {
   "cell_type": "code",
   "execution_count": 30,
   "id": "1746c1cc",
   "metadata": {
    "ExecuteTime": {
     "end_time": "2022-04-12T09:46:19.517075Z",
     "start_time": "2022-04-12T09:46:18.567171Z"
    },
    "hidden": true
   },
   "outputs": [
    {
     "data": {
      "text/plain": [
       "<AxesSubplot:xlabel='response', ylabel='policy_sales_channel'>"
      ]
     },
     "execution_count": 30,
     "metadata": {},
     "output_type": "execute_result"
    },
    {
     "data": {
      "image/png": "[encoded data removed]",
      "text/plain": [
       "<Figure size 1728x864 with 1 Axes>"
      ]
     },
     "metadata": {
      "needs_background": "light"
     },
     "output_type": "display_data"
    }
   ],
   "source": [
    "#Policy_Sales_Channel\n",
    "plt.figure(figsize=(24, 12))\n",
    "aux001 = df1[['policy_sales_channel', 'response']].groupby( 'policy_sales_channel' ).sum().reset_index()\n",
    "sns.barplot( x='response', y='policy_sales_channel', data=aux001)"
   ]
  },
  {
   "cell_type": "code",
   "execution_count": 31,
   "id": "aeff467f",
   "metadata": {
    "ExecuteTime": {
     "end_time": "2022-04-12T09:46:19.662310Z",
     "start_time": "2022-04-12T09:46:19.519029Z"
    },
    "hidden": true
   },
   "outputs": [
    {
     "data": {
      "text/plain": [
       "<AxesSubplot:xlabel='response', ylabel='vintage'>"
      ]
     },
     "execution_count": 31,
     "metadata": {},
     "output_type": "execute_result"
    },
    {
     "data": {
      "image/png": "[encoded data removed]",
      "text/plain": [
       "<Figure size 432x288 with 1 Axes>"
      ]
     },
     "metadata": {
      "needs_background": "light"
     },
     "output_type": "display_data"
    }
   ],
   "source": [
    "#Vintage\n",
    "sns.boxplot(x='response', y='vintage', data=df1)"
   ]
  },
  {
   "cell_type": "code",
   "execution_count": 32,
   "id": "77436193",
   "metadata": {
    "ExecuteTime": {
     "end_time": "2022-04-12T09:46:20.383148Z",
     "start_time": "2022-04-12T09:46:20.080443Z"
    },
    "cell_style": "split",
    "hidden": true
   },
   "outputs": [
    {
     "data": {
      "text/plain": [
       "<AxesSubplot:xlabel='vintage', ylabel='Count'>"
      ]
     },
     "execution_count": 32,
     "metadata": {},
     "output_type": "execute_result"
    },
    {
     "data": {
      "image/png": "[encoded data removed]",
      "text/plain": [
       "<Figure size 432x288 with 1 Axes>"
      ]
     },
     "metadata": {
      "needs_background": "light"
     },
     "output_type": "display_data"
    }
   ],
   "source": [
    "aux00 = df1.loc[df1['response'] == 0, 'vintage']\n",
    "sns.histplot( aux00 )"
   ]
  },
  {
   "cell_type": "code",
   "execution_count": 33,
   "id": "c4cd1bd2",
   "metadata": {
    "ExecuteTime": {
     "end_time": "2022-04-12T09:46:20.942311Z",
     "start_time": "2022-04-12T09:46:20.763625Z"
    },
    "cell_style": "split",
    "hidden": true,
    "scrolled": true
   },
   "outputs": [
    {
     "data": {
      "text/plain": [
       "<AxesSubplot:xlabel='vintage', ylabel='Count'>"
      ]
     },
     "execution_count": 33,
     "metadata": {},
     "output_type": "execute_result"
    },
    {
     "data": {
      "image/png": "[encoded data removed]",
      "text/plain": [
       "<Figure size 432x288 with 1 Axes>"
      ]
     },
     "metadata": {
      "needs_background": "light"
     },
     "output_type": "display_data"
    }
   ],
   "source": [
    "aux01 = df1.loc[df1['response'] == 1, 'vintage' ]\n",
    "sns.histplot( aux01)"
   ]
  },
  {
   "cell_type": "code",
   "execution_count": 34,
   "id": "8ca27e81",
   "metadata": {
    "ExecuteTime": {
     "end_time": "2022-04-12T09:46:21.695314Z",
     "start_time": "2022-04-12T09:46:21.686130Z"
    },
    "hidden": true
   },
   "outputs": [],
   "source": [
    "#Response"
   ]
  },
  {
   "cell_type": "markdown",
   "id": "3450d84a",
   "metadata": {},
   "source": [
    "# 5.0. Data Preparation"
   ]
  },
  {
   "cell_type": "code",
   "execution_count": 35,
   "id": "b3f487ad",
   "metadata": {
    "ExecuteTime": {
     "end_time": "2022-04-12T09:46:29.082827Z",
     "start_time": "2022-04-12T09:46:29.056963Z"
    }
   },
   "outputs": [],
   "source": [
    "df1 = df1.copy()"
   ]
  },
  {
   "cell_type": "code",
   "execution_count": 36,
   "id": "69fc5e6b",
   "metadata": {
    "ExecuteTime": {
     "end_time": "2022-04-12T09:46:30.216493Z",
     "start_time": "2022-04-12T09:46:30.065577Z"
    }
   },
   "outputs": [
    {
     "data": {
      "text/plain": [
       "<AxesSubplot:xlabel='gender', ylabel='response'>"
      ]
     },
     "execution_count": 36,
     "metadata": {},
     "output_type": "execute_result"
    },
    {
     "data": {
      "image/png": "[encoded data removed]",
      "text/plain": [
       "<Figure size 432x288 with 1 Axes>"
      ]
     },
     "metadata": {
      "needs_background": "light"
     },
     "output_type": "display_data"
    }
   ],
   "source": [
    "ax1 = df1[['gender', 'response']].groupby('gender').sum().reset_index()\n",
    "sns.barplot( x='gender', y='response', data=ax1)"
   ]
  },
  {
   "cell_type": "code",
   "execution_count": 37,
   "id": "bce2d233",
   "metadata": {
    "ExecuteTime": {
     "end_time": "2022-04-13T00:19:17.534180Z",
     "start_time": "2022-04-13T00:19:13.720347Z"
    }
   },
   "outputs": [],
   "source": [
    "X =  df1.drop( 'response', axis=1 ) #fi\n",
    "Y =  df1[ 'response' ].copy()#variavel resposta\n",
    "\n",
    "x_train, x_val, y_train, y_val = ms.train_test_split( X, Y, test_size=0.20 )\n",
    "\n",
    "df1 = pd.concat( [x_train, y_train], axis=1 )"
   ]
  },
  {
   "cell_type": "markdown",
   "id": "df32f071",
   "metadata": {},
   "source": [
    "## Standardization"
   ]
  },
  {
   "cell_type": "code",
   "execution_count": 38,
   "id": "f75c29a6",
   "metadata": {
    "ExecuteTime": {
     "end_time": "2022-04-13T00:19:19.833166Z",
     "start_time": "2022-04-13T00:19:19.062114Z"
    }
   },
   "outputs": [],
   "source": [
    "ss = pp.StandardScaler()\n",
    "\n",
    "# Annual_Premium\n",
    "df1['annual_premium'] = ss.fit_transform( df1[[ 'annual_premium']].values )"
   ]
  },
  {
   "cell_type": "markdown",
   "id": "6bf457a7",
   "metadata": {},
   "source": [
    "## Rescaling"
   ]
  },
  {
   "cell_type": "code",
   "execution_count": 39,
   "id": "176da3c5",
   "metadata": {
    "ExecuteTime": {
     "end_time": "2022-04-13T00:19:21.826205Z",
     "start_time": "2022-04-13T00:19:21.691982Z"
    }
   },
   "outputs": [],
   "source": [
    "mms_age = pp.MinMaxScaler()\n",
    "mms_vintage = pp.MinMaxScaler()\n",
    "\n",
    "# Age\n",
    "df1['age'] = mms_age.fit_transform( df1[['age']].values )\n",
    "\n",
    "# Vintage\n",
    "df1['vintage'] = mms_vintage.fit_transform( df1[['vintage']].values )"
   ]
  },
  {
   "cell_type": "markdown",
   "id": "68e0123c",
   "metadata": {},
   "source": [
    "## Encoder"
   ]
  },
  {
   "cell_type": "code",
   "execution_count": 40,
   "id": "ff8ae0cc",
   "metadata": {
    "ExecuteTime": {
     "end_time": "2022-04-12T09:46:46.530386Z",
     "start_time": "2022-04-12T09:46:46.339006Z"
    }
   },
   "outputs": [],
   "source": [
    "# gender - One Hot Encoding / Target Encoding\n",
    "target_encode_gender = df1.groupby( 'gender' )['response'].mean()\n",
    "df1.loc[:, 'gender'] = df1['gender'].map( target_encode_gender )\n",
    "\n",
    "# Region_code -  Frequency Encoding / Target Encoding / Weighted Target Enconding\n",
    "target_encode_region_code = df1.groupby('region_code')['response'].mean()\n",
    "df1.loc[:, 'region_code' ] = df1[ 'region_code' ].map( target_encode_region_code )\n",
    "\n",
    "# Vehicle_age -  One Hot Encondign / Order Enconding / Frequency Encoding\n",
    "df1 = pd.get_dummies( df1, prefix='vehicle_age', columns=['vehicle_age'])\n",
    "\n",
    "# Policy_sales_channel - Target Encoding / Frequency Encoding\n",
    "fe_policy_sales_channel = df1.groupby( 'policy_sales_channel' ).size() / len( df1 )\n",
    "df1.loc[:, 'policy_sales_channel'] = df1[ 'policy_sales_channel'].map(fe_policy_sales_channel)"
   ]
  },
  {
   "cell_type": "code",
   "execution_count": 41,
   "id": "2d25da22",
   "metadata": {
    "ExecuteTime": {
     "end_time": "2022-04-12T09:46:51.654846Z",
     "start_time": "2022-04-12T09:46:51.612008Z"
    },
    "scrolled": true
   },
   "outputs": [
    {
     "data": {
      "text/html": [
       "<div>\n",
       "<style scoped>\n",
       "    .dataframe tbody tr th:only-of-type {\n",
       "        vertical-align: middle;\n",
       "    }\n",
       "\n",
       "    .dataframe tbody tr th {\n",
       "        vertical-align: top;\n",
       "    }\n",
       "\n",
       "    .dataframe thead th {\n",
       "        text-align: right;\n",
       "    }\n",
       "</style>\n",
       "<table border=\"1\" class=\"dataframe\">\n",
       "  <thead>\n",
       "    <tr style=\"text-align: right;\">\n",
       "      <th></th>\n",
       "      <th>region_code</th>\n",
       "      <th>response</th>\n",
       "    </tr>\n",
       "  </thead>\n",
       "  <tbody>\n",
       "    <tr>\n",
       "      <th>0</th>\n",
       "      <td>0.039124</td>\n",
       "      <td>25</td>\n",
       "    </tr>\n",
       "    <tr>\n",
       "      <th>1</th>\n",
       "      <td>0.041109</td>\n",
       "      <td>83</td>\n",
       "    </tr>\n",
       "    <tr>\n",
       "      <th>2</th>\n",
       "      <td>0.057547</td>\n",
       "      <td>61</td>\n",
       "    </tr>\n",
       "    <tr>\n",
       "      <th>3</th>\n",
       "      <td>0.061665</td>\n",
       "      <td>217</td>\n",
       "    </tr>\n",
       "    <tr>\n",
       "      <th>4</th>\n",
       "      <td>0.062272</td>\n",
       "      <td>511</td>\n",
       "    </tr>\n",
       "    <tr>\n",
       "      <th>5</th>\n",
       "      <td>0.067201</td>\n",
       "      <td>109</td>\n",
       "    </tr>\n",
       "    <tr>\n",
       "      <th>6</th>\n",
       "      <td>0.067634</td>\n",
       "      <td>219</td>\n",
       "    </tr>\n",
       "    <tr>\n",
       "      <th>7</th>\n",
       "      <td>0.068918</td>\n",
       "      <td>100</td>\n",
       "    </tr>\n",
       "    <tr>\n",
       "      <th>8</th>\n",
       "      <td>0.070365</td>\n",
       "      <td>241</td>\n",
       "    </tr>\n",
       "    <tr>\n",
       "      <th>9</th>\n",
       "      <td>0.072262</td>\n",
       "      <td>161</td>\n",
       "    </tr>\n",
       "    <tr>\n",
       "      <th>10</th>\n",
       "      <td>0.072829</td>\n",
       "      <td>364</td>\n",
       "    </tr>\n",
       "    <tr>\n",
       "      <th>11</th>\n",
       "      <td>0.073274</td>\n",
       "      <td>777</td>\n",
       "    </tr>\n",
       "    <tr>\n",
       "      <th>12</th>\n",
       "      <td>0.073729</td>\n",
       "      <td>721</td>\n",
       "    </tr>\n",
       "    <tr>\n",
       "      <th>13</th>\n",
       "      <td>0.075415</td>\n",
       "      <td>100</td>\n",
       "    </tr>\n",
       "    <tr>\n",
       "      <th>14</th>\n",
       "      <td>0.076071</td>\n",
       "      <td>158</td>\n",
       "    </tr>\n",
       "    <tr>\n",
       "      <th>15</th>\n",
       "      <td>0.076271</td>\n",
       "      <td>36</td>\n",
       "    </tr>\n",
       "    <tr>\n",
       "      <th>16</th>\n",
       "      <td>0.076660</td>\n",
       "      <td>336</td>\n",
       "    </tr>\n",
       "    <tr>\n",
       "      <th>17</th>\n",
       "      <td>0.078479</td>\n",
       "      <td>163</td>\n",
       "    </tr>\n",
       "    <tr>\n",
       "      <th>18</th>\n",
       "      <td>0.079966</td>\n",
       "      <td>566</td>\n",
       "    </tr>\n",
       "    <tr>\n",
       "      <th>19</th>\n",
       "      <td>0.081179</td>\n",
       "      <td>201</td>\n",
       "    </tr>\n",
       "    <tr>\n",
       "      <th>20</th>\n",
       "      <td>0.083636</td>\n",
       "      <td>138</td>\n",
       "    </tr>\n",
       "    <tr>\n",
       "      <th>21</th>\n",
       "      <td>0.088488</td>\n",
       "      <td>525</td>\n",
       "    </tr>\n",
       "    <tr>\n",
       "      <th>22</th>\n",
       "      <td>0.089978</td>\n",
       "      <td>290</td>\n",
       "    </tr>\n",
       "    <tr>\n",
       "      <th>23</th>\n",
       "      <td>0.090211</td>\n",
       "      <td>188</td>\n",
       "    </tr>\n",
       "    <tr>\n",
       "      <th>24</th>\n",
       "      <td>0.090265</td>\n",
       "      <td>344</td>\n",
       "    </tr>\n",
       "    <tr>\n",
       "      <th>25</th>\n",
       "      <td>0.090625</td>\n",
       "      <td>203</td>\n",
       "    </tr>\n",
       "    <tr>\n",
       "      <th>26</th>\n",
       "      <td>0.095774</td>\n",
       "      <td>2595</td>\n",
       "    </tr>\n",
       "    <tr>\n",
       "      <th>27</th>\n",
       "      <td>0.096737</td>\n",
       "      <td>249</td>\n",
       "    </tr>\n",
       "    <tr>\n",
       "      <th>28</th>\n",
       "      <td>0.099809</td>\n",
       "      <td>157</td>\n",
       "    </tr>\n",
       "    <tr>\n",
       "      <th>29</th>\n",
       "      <td>0.100639</td>\n",
       "      <td>614</td>\n",
       "    </tr>\n",
       "    <tr>\n",
       "      <th>30</th>\n",
       "      <td>0.100962</td>\n",
       "      <td>21</td>\n",
       "    </tr>\n",
       "    <tr>\n",
       "      <th>31</th>\n",
       "      <td>0.101713</td>\n",
       "      <td>374</td>\n",
       "    </tr>\n",
       "    <tr>\n",
       "      <th>32</th>\n",
       "      <td>0.102176</td>\n",
       "      <td>1620</td>\n",
       "    </tr>\n",
       "    <tr>\n",
       "      <th>33</th>\n",
       "      <td>0.108643</td>\n",
       "      <td>489</td>\n",
       "    </tr>\n",
       "    <tr>\n",
       "      <th>34</th>\n",
       "      <td>0.109159</td>\n",
       "      <td>87</td>\n",
       "    </tr>\n",
       "    <tr>\n",
       "      <th>35</th>\n",
       "      <td>0.110555</td>\n",
       "      <td>817</td>\n",
       "    </tr>\n",
       "    <tr>\n",
       "      <th>36</th>\n",
       "      <td>0.115534</td>\n",
       "      <td>119</td>\n",
       "    </tr>\n",
       "    <tr>\n",
       "      <th>37</th>\n",
       "      <td>0.118655</td>\n",
       "      <td>180</td>\n",
       "    </tr>\n",
       "    <tr>\n",
       "      <th>38</th>\n",
       "      <td>0.120039</td>\n",
       "      <td>124</td>\n",
       "    </tr>\n",
       "    <tr>\n",
       "      <th>39</th>\n",
       "      <td>0.121147</td>\n",
       "      <td>676</td>\n",
       "    </tr>\n",
       "    <tr>\n",
       "      <th>40</th>\n",
       "      <td>0.123241</td>\n",
       "      <td>1795</td>\n",
       "    </tr>\n",
       "    <tr>\n",
       "      <th>41</th>\n",
       "      <td>0.124493</td>\n",
       "      <td>460</td>\n",
       "    </tr>\n",
       "    <tr>\n",
       "      <th>42</th>\n",
       "      <td>0.125793</td>\n",
       "      <td>1111</td>\n",
       "    </tr>\n",
       "    <tr>\n",
       "      <th>43</th>\n",
       "      <td>0.128620</td>\n",
       "      <td>946</td>\n",
       "    </tr>\n",
       "    <tr>\n",
       "      <th>44</th>\n",
       "      <td>0.130385</td>\n",
       "      <td>342</td>\n",
       "    </tr>\n",
       "    <tr>\n",
       "      <th>45</th>\n",
       "      <td>0.133577</td>\n",
       "      <td>549</td>\n",
       "    </tr>\n",
       "    <tr>\n",
       "      <th>46</th>\n",
       "      <td>0.144553</td>\n",
       "      <td>280</td>\n",
       "    </tr>\n",
       "    <tr>\n",
       "      <th>47</th>\n",
       "      <td>0.148649</td>\n",
       "      <td>22</td>\n",
       "    </tr>\n",
       "    <tr>\n",
       "      <th>48</th>\n",
       "      <td>0.149621</td>\n",
       "      <td>237</td>\n",
       "    </tr>\n",
       "    <tr>\n",
       "      <th>49</th>\n",
       "      <td>0.162029</td>\n",
       "      <td>198</td>\n",
       "    </tr>\n",
       "    <tr>\n",
       "      <th>50</th>\n",
       "      <td>0.167009</td>\n",
       "      <td>244</td>\n",
       "    </tr>\n",
       "    <tr>\n",
       "      <th>51</th>\n",
       "      <td>0.187620</td>\n",
       "      <td>15982</td>\n",
       "    </tr>\n",
       "    <tr>\n",
       "      <th>52</th>\n",
       "      <td>0.194085</td>\n",
       "      <td>315</td>\n",
       "    </tr>\n",
       "  </tbody>\n",
       "</table>\n",
       "</div>"
      ],
      "text/plain": [
       "    region_code  response\n",
       "0      0.039124        25\n",
       "1      0.041109        83\n",
       "2      0.057547        61\n",
       "3      0.061665       217\n",
       "4      0.062272       511\n",
       "5      0.067201       109\n",
       "6      0.067634       219\n",
       "7      0.068918       100\n",
       "8      0.070365       241\n",
       "9      0.072262       161\n",
       "10     0.072829       364\n",
       "11     0.073274       777\n",
       "12     0.073729       721\n",
       "13     0.075415       100\n",
       "14     0.076071       158\n",
       "15     0.076271        36\n",
       "16     0.076660       336\n",
       "17     0.078479       163\n",
       "18     0.079966       566\n",
       "19     0.081179       201\n",
       "20     0.083636       138\n",
       "21     0.088488       525\n",
       "22     0.089978       290\n",
       "23     0.090211       188\n",
       "24     0.090265       344\n",
       "25     0.090625       203\n",
       "26     0.095774      2595\n",
       "27     0.096737       249\n",
       "28     0.099809       157\n",
       "29     0.100639       614\n",
       "30     0.100962        21\n",
       "31     0.101713       374\n",
       "32     0.102176      1620\n",
       "33     0.108643       489\n",
       "34     0.109159        87\n",
       "35     0.110555       817\n",
       "36     0.115534       119\n",
       "37     0.118655       180\n",
       "38     0.120039       124\n",
       "39     0.121147       676\n",
       "40     0.123241      1795\n",
       "41     0.124493       460\n",
       "42     0.125793      1111\n",
       "43     0.128620       946\n",
       "44     0.130385       342\n",
       "45     0.133577       549\n",
       "46     0.144553       280\n",
       "47     0.148649        22\n",
       "48     0.149621       237\n",
       "49     0.162029       198\n",
       "50     0.167009       244\n",
       "51     0.187620     15982\n",
       "52     0.194085       315"
      ]
     },
     "execution_count": 41,
     "metadata": {},
     "output_type": "execute_result"
    }
   ],
   "source": [
    "df1[['region_code', 'response']].groupby('region_code').sum().reset_index()"
   ]
  },
  {
   "cell_type": "markdown",
   "id": "201ef354",
   "metadata": {},
   "source": [
    "# 5.4 Validation Preparation"
   ]
  },
  {
   "cell_type": "code",
   "execution_count": 42,
   "id": "c524815d",
   "metadata": {
    "ExecuteTime": {
     "end_time": "2022-04-12T09:46:57.783826Z",
     "start_time": "2022-04-12T09:46:57.697166Z"
    }
   },
   "outputs": [],
   "source": [
    "# gender\n",
    "x_val.loc[:, 'gender'] = x_val.loc[:, 'gender'].map( target_encode_gender )\n",
    "\n",
    "# age\n",
    "x_val.loc[:, 'age'] = mms_age.transform( x_val[[ 'age' ]].values )\n",
    "\n",
    "# region_code\n",
    "x_val.loc[:, 'region_code' ] = x_val.loc[:, 'region_code' ].map( target_encode_region_code )\n",
    "\n",
    "# vehicle_age\n",
    "x_val = pd.get_dummies( x_val, prefix='vehicle_age', columns=['vehicle_age'] )\n",
    "\n",
    "# annual_premium\n",
    "x_val.loc[:, 'annual_premium' ] = ss.transform( x_val[['annual_premium']].values )\n",
    "\n",
    "# policy_sales_channel\n",
    "x_val.loc[:, 'policy_sales_channel'] = x_val[ 'policy_sales_channel'].map( fe_policy_sales_channel )\n",
    "\n",
    "# vintage\n",
    "x_val.loc[:, 'vintage' ] = mms_vintage.transform( x_val[['vintage']].values)\n",
    "\n",
    "# fiilna\n",
    "x_val = x_val.fillna( 0 )"
   ]
  },
  {
   "cell_type": "markdown",
   "id": "bea37030",
   "metadata": {},
   "source": [
    "# 6.0. Feature Selection"
   ]
  },
  {
   "cell_type": "markdown",
   "id": "b55e9ea9",
   "metadata": {},
   "source": [
    "## 6.2 Features importancia"
   ]
  },
  {
   "cell_type": "code",
   "execution_count": 43,
   "id": "12ff85e9-5ddb-4a77-aa7e-dc7da2891962",
   "metadata": {},
   "outputs": [],
   "source": [
    "df2 = df1.copy()"
   ]
  },
  {
   "cell_type": "code",
   "execution_count": 44,
   "id": "e29336c3",
   "metadata": {
    "ExecuteTime": {
     "end_time": "2022-04-12T09:47:39.806056Z",
     "start_time": "2022-04-12T09:47:08.147972Z"
    }
   },
   "outputs": [
    {
     "data": {
      "text/html": [
       "<style>#sk-container-id-1 {color: black;background-color: white;}#sk-container-id-1 pre{padding: 0;}#sk-container-id-1 div.sk-toggleable {background-color: white;}#sk-container-id-1 label.sk-toggleable__label {cursor: pointer;display: block;width: 100%;margin-bottom: 0;padding: 0.3em;box-sizing: border-box;text-align: center;}#sk-container-id-1 label.sk-toggleable__label-arrow:before {content: \"▸\";float: left;margin-right: 0.25em;color: #696969;}#sk-container-id-1 label.sk-toggleable__label-arrow:hover:before {color: black;}#sk-container-id-1 div.sk-estimator:hover label.sk-toggleable__label-arrow:before {color: black;}#sk-container-id-1 div.sk-toggleable__content {max-height: 0;max-width: 0;overflow: hidden;text-align: left;background-color: #f0f8ff;}#sk-container-id-1 div.sk-toggleable__content pre {margin: 0.2em;color: black;border-radius: 0.25em;background-color: #f0f8ff;}#sk-container-id-1 input.sk-toggleable__control:checked~div.sk-toggleable__content {max-height: 200px;max-width: 100%;overflow: auto;}#sk-container-id-1 input.sk-toggleable__control:checked~label.sk-toggleable__label-arrow:before {content: \"▾\";}#sk-container-id-1 div.sk-estimator input.sk-toggleable__control:checked~label.sk-toggleable__label {background-color: #d4ebff;}#sk-container-id-1 div.sk-label input.sk-toggleable__control:checked~label.sk-toggleable__label {background-color: #d4ebff;}#sk-container-id-1 input.sk-hidden--visually {border: 0;clip: rect(1px 1px 1px 1px);clip: rect(1px, 1px, 1px, 1px);height: 1px;margin: -1px;overflow: hidden;padding: 0;position: absolute;width: 1px;}#sk-container-id-1 div.sk-estimator {font-family: monospace;background-color: #f0f8ff;border: 1px dotted black;border-radius: 0.25em;box-sizing: border-box;margin-bottom: 0.5em;}#sk-container-id-1 div.sk-estimator:hover {background-color: #d4ebff;}#sk-container-id-1 div.sk-parallel-item::after {content: \"\";width: 100%;border-bottom: 1px solid gray;flex-grow: 1;}#sk-container-id-1 div.sk-label:hover label.sk-toggleable__label {background-color: #d4ebff;}#sk-container-id-1 div.sk-serial::before {content: \"\";position: absolute;border-left: 1px solid gray;box-sizing: border-box;top: 0;bottom: 0;left: 50%;z-index: 0;}#sk-container-id-1 div.sk-serial {display: flex;flex-direction: column;align-items: center;background-color: white;padding-right: 0.2em;padding-left: 0.2em;position: relative;}#sk-container-id-1 div.sk-item {position: relative;z-index: 1;}#sk-container-id-1 div.sk-parallel {display: flex;align-items: stretch;justify-content: center;background-color: white;position: relative;}#sk-container-id-1 div.sk-item::before, #sk-container-id-1 div.sk-parallel-item::before {content: \"\";position: absolute;border-left: 1px solid gray;box-sizing: border-box;top: 0;bottom: 0;left: 50%;z-index: -1;}#sk-container-id-1 div.sk-parallel-item {display: flex;flex-direction: column;z-index: 1;position: relative;background-color: white;}#sk-container-id-1 div.sk-parallel-item:first-child::after {align-self: flex-end;width: 50%;}#sk-container-id-1 div.sk-parallel-item:last-child::after {align-self: flex-start;width: 50%;}#sk-container-id-1 div.sk-parallel-item:only-child::after {width: 0;}#sk-container-id-1 div.sk-dashed-wrapped {border: 1px dashed gray;margin: 0 0.4em 0.5em 0.4em;box-sizing: border-box;padding-bottom: 0.4em;background-color: white;}#sk-container-id-1 div.sk-label label {font-family: monospace;font-weight: bold;display: inline-block;line-height: 1.2em;}#sk-container-id-1 div.sk-label-container {text-align: center;}#sk-container-id-1 div.sk-container {/* jupyter's `normalize.less` sets `[hidden] { display: none; }` but bootstrap.min.css set `[hidden] { display: none !important; }` so we also need the `!important` here to be able to override the default hidden behavior on the sphinx rendered scikit-learn.org. See: https://github.com/scikit-learn/scikit-learn/issues/21755 */display: inline-block !important;position: relative;}#sk-container-id-1 div.sk-text-repr-fallback {display: none;}</style><div id=\"sk-container-id-1\" class=\"sk-top-container\"><div class=\"sk-text-repr-fallback\"><pre>ExtraTreesClassifier(n_estimators=250, n_jobs=-1, random_state=0)</pre><b>In a Jupyter environment, please rerun this cell to show the HTML representation or trust the notebook. <br />On GitHub, the HTML representation is unable to render, please try loading this page with nbviewer.org.</b></div><div class=\"sk-container\" hidden><div class=\"sk-item\"><div class=\"sk-estimator sk-toggleable\"><input class=\"sk-toggleable__control sk-hidden--visually\" id=\"sk-estimator-id-1\" type=\"checkbox\" checked><label for=\"sk-estimator-id-1\" class=\"sk-toggleable__label sk-toggleable__label-arrow\">ExtraTreesClassifier</label><div class=\"sk-toggleable__content\"><pre>ExtraTreesClassifier(n_estimators=250, n_jobs=-1, random_state=0)</pre></div></div></div></div></div>"
      ],
      "text/plain": [
       "ExtraTreesClassifier(n_estimators=250, n_jobs=-1, random_state=0)"
      ]
     },
     "execution_count": 44,
     "metadata": {},
     "output_type": "execute_result"
    }
   ],
   "source": [
    "# model definition\n",
    "forest = en.ExtraTreesClassifier( n_estimators=250, random_state=0, n_jobs=-1 )\n",
    "\n",
    "# data preparation\n",
    "x_train_n = df2.drop( ['id','response'], axis=1 )\n",
    "y_train_n = y_train.values\n",
    "forest.fit( x_train_n, y_train_n )"
   ]
  },
  {
   "cell_type": "code",
   "execution_count": 45,
   "id": "84999c44",
   "metadata": {
    "ExecuteTime": {
     "end_time": "2022-04-12T09:48:26.522194Z",
     "start_time": "2022-04-12T09:48:24.427605Z"
    }
   },
   "outputs": [
    {
     "name": "stdout",
     "output_type": "stream",
     "text": [
      "Feature ranking:\n",
      "                         feature  importance\n",
      "0                        vintage    0.271923\n",
      "0                 annual_premium    0.244972\n",
      "0                            age    0.164654\n",
      "0                    region_code    0.106011\n",
      "0                 vehicle_damage    0.070486\n",
      "0           policy_sales_channel    0.060451\n",
      "0             previously_insured    0.053990\n",
      "0       vehicle_age_below_1_year    0.013879\n",
      "0  vehicle_age_between_1_2_years    0.006408\n",
      "0                         gender    0.004572\n",
      "0       vehicle_age_over_2_years    0.002140\n",
      "0                driving_license    0.000513\n"
     ]
    },
    {
     "data": {
      "image/png": "[encoded data removed]",
      "text/plain": [
       "<Figure size 432x288 with 1 Axes>"
      ]
     },
     "metadata": {
      "needs_background": "light"
     },
     "output_type": "display_data"
    }
   ],
   "source": [
    "importances = forest.feature_importances_\n",
    "std = np.std([tree.feature_importances_ for tree in forest.estimators_], axis=0 )\n",
    "indices = np.argsort( importances )[ ::-1 ]\n",
    "\n",
    "# Print the feature ranking\n",
    "print('Feature ranking:')\n",
    "df = pd.DataFrame()\n",
    "for i, j in zip( x_train_n, forest.feature_importances_ ):\n",
    "    aux = pd.DataFrame( {'feature': i, 'importance': j}, index=[0] )\n",
    "    df  = pd.concat( [df, aux], axis=0 )\n",
    "print( df.sort_values( 'importance', ascending=False ) )\n",
    "\n",
    "# Plot the impurity_based feature importances of the forest\n",
    "plt.figure()\n",
    "plt.title( 'feature importances' )\n",
    "plt.bar(range(x_train_n.shape[1] ), importances[indices], color='r', yerr=std[indices], align='center' )\n",
    "plt.xticks(range(x_train_n.shape[1] ), indices)\n",
    "plt.xlim( [-1, x_train_n.shape[1 ] ] )\n",
    "plt.show()\n"
   ]
  },
  {
   "cell_type": "code",
   "execution_count": null,
   "id": "5c903427",
   "metadata": {},
   "outputs": [],
   "source": []
  },
  {
   "cell_type": "markdown",
   "id": "d0c24c19",
   "metadata": {},
   "source": [
    "# 7.0. Machine Learning"
   ]
  },
  {
   "cell_type": "code",
   "execution_count": 2,
   "id": "306796cf",
   "metadata": {
    "ExecuteTime": {
     "end_time": "2022-04-12T23:28:03.222080Z",
     "start_time": "2022-04-12T23:28:01.989273Z"
    },
    "collapsed": true
   },
   "outputs": [
    {
     "ename": "NameError",
     "evalue": "name 'df1' is not defined",
     "output_type": "error",
     "traceback": [
      "\u001b[0;31m---------------------------------------------------------------------------\u001b[0m",
      "\u001b[0;31mNameError\u001b[0m                                 Traceback (most recent call last)",
      "\u001b[0;32m/tmp/ipykernel_60440/1970589316.py\u001b[0m in \u001b[0;36m<module>\u001b[0;34m\u001b[0m\n\u001b[0;32m----> 1\u001b[0;31m \u001b[0mdf1\u001b[0m\u001b[0;34m.\u001b[0m\u001b[0mhead\u001b[0m\u001b[0;34m(\u001b[0m\u001b[0;34m)\u001b[0m\u001b[0;34m\u001b[0m\u001b[0;34m\u001b[0m\u001b[0m\n\u001b[0m",
      "\u001b[0;31mNameError\u001b[0m: name 'df1' is not defined"
     ]
    }
   ],
   "source": [
    "df1.head()"
   ]
  },
  {
   "cell_type": "code",
   "execution_count": 60,
   "id": "b84caa0e-8cdd-4c28-8462-9bd6c7f192c8",
   "metadata": {},
   "outputs": [],
   "source": [
    "cols_selected = ['vintage', 'annual_premium', 'age', 'region_code', 'vehicle_damage', 'policy_sales_channel', 'previously_insured']\n",
    "\n",
    "\n",
    "x_train = df2[ cols_selected ]\n",
    "x_val = x_val[ cols_selected ]"
   ]
  },
  {
   "cell_type": "code",
   "execution_count": 58,
   "id": "840a543e",
   "metadata": {},
   "outputs": [
    {
     "data": {
      "text/html": [
       "<div>\n",
       "<style scoped>\n",
       "    .dataframe tbody tr th:only-of-type {\n",
       "        vertical-align: middle;\n",
       "    }\n",
       "\n",
       "    .dataframe tbody tr th {\n",
       "        vertical-align: top;\n",
       "    }\n",
       "\n",
       "    .dataframe thead th {\n",
       "        text-align: right;\n",
       "    }\n",
       "</style>\n",
       "<table border=\"1\" class=\"dataframe\">\n",
       "  <thead>\n",
       "    <tr style=\"text-align: right;\">\n",
       "      <th></th>\n",
       "      <th>vintage</th>\n",
       "      <th>annual_premium</th>\n",
       "      <th>age</th>\n",
       "      <th>region_code</th>\n",
       "      <th>vehicle_damage</th>\n",
       "      <th>policy_sales_channel</th>\n",
       "      <th>previously_insured</th>\n",
       "    </tr>\n",
       "  </thead>\n",
       "  <tbody>\n",
       "    <tr>\n",
       "      <th>31129</th>\n",
       "      <td>0.678201</td>\n",
       "      <td>0.514468</td>\n",
       "      <td>0.015385</td>\n",
       "      <td>0.062272</td>\n",
       "      <td>1</td>\n",
       "      <td>0.056936</td>\n",
       "      <td>1</td>\n",
       "    </tr>\n",
       "    <tr>\n",
       "      <th>180587</th>\n",
       "      <td>0.010381</td>\n",
       "      <td>-1.630941</td>\n",
       "      <td>0.061538</td>\n",
       "      <td>0.110555</td>\n",
       "      <td>0</td>\n",
       "      <td>0.354102</td>\n",
       "      <td>1</td>\n",
       "    </tr>\n",
       "    <tr>\n",
       "      <th>315143</th>\n",
       "      <td>0.633218</td>\n",
       "      <td>0.611166</td>\n",
       "      <td>0.030769</td>\n",
       "      <td>0.095774</td>\n",
       "      <td>0</td>\n",
       "      <td>0.354102</td>\n",
       "      <td>1</td>\n",
       "    </tr>\n",
       "    <tr>\n",
       "      <th>312977</th>\n",
       "      <td>0.657439</td>\n",
       "      <td>0.544734</td>\n",
       "      <td>0.415385</td>\n",
       "      <td>0.187620</td>\n",
       "      <td>1</td>\n",
       "      <td>0.193865</td>\n",
       "      <td>0</td>\n",
       "    </tr>\n",
       "    <tr>\n",
       "      <th>374074</th>\n",
       "      <td>0.851211</td>\n",
       "      <td>0.139245</td>\n",
       "      <td>0.092308</td>\n",
       "      <td>0.123241</td>\n",
       "      <td>0</td>\n",
       "      <td>0.354102</td>\n",
       "      <td>1</td>\n",
       "    </tr>\n",
       "  </tbody>\n",
       "</table>\n",
       "</div>"
      ],
      "text/plain": [
       "         vintage  annual_premium       age  region_code  vehicle_damage  \\\n",
       "31129   0.678201        0.514468  0.015385     0.062272               1   \n",
       "180587  0.010381       -1.630941  0.061538     0.110555               0   \n",
       "315143  0.633218        0.611166  0.030769     0.095774               0   \n",
       "312977  0.657439        0.544734  0.415385     0.187620               1   \n",
       "374074  0.851211        0.139245  0.092308     0.123241               0   \n",
       "\n",
       "        policy_sales_channel  previously_insured  \n",
       "31129               0.056936                   1  \n",
       "180587              0.354102                   1  \n",
       "315143              0.354102                   1  \n",
       "312977              0.193865                   0  \n",
       "374074              0.354102                   1  "
      ]
     },
     "execution_count": 58,
     "metadata": {},
     "output_type": "execute_result"
    }
   ],
   "source": [
    "y_val.head()"
   ]
  },
  {
   "cell_type": "markdown",
   "id": "0943d3e6-3725-42ab-a751-9f4550e9247b",
   "metadata": {},
   "source": [
    "\n",
    "## 7.1. KNN"
   ]
  },
  {
   "cell_type": "code",
   "execution_count": 69,
   "id": "d13b95a5",
   "metadata": {
    "ExecuteTime": {
     "end_time": "2022-04-13T00:22:36.804823Z",
     "start_time": "2022-04-13T00:22:35.975120Z"
    }
   },
   "outputs": [],
   "source": [
    "# Model definition\n",
    "knn_model = nh.KNeighborsClassifier( n_neighbors=2 )\n",
    "\n",
    "# Model training\n",
    "knn_model.fit( x_train, y_train )\n",
    "\n",
    "# Model prediction - Mede Poder de GENERALIZACAO  e nao de aprendizado\n",
    "yhat_knn = knn_model.predict_proba( x_val )"
   ]
  },
  {
   "cell_type": "code",
   "execution_count": 77,
   "id": "e051b8eb-a730-46f4-a375-c346fa3feef3",
   "metadata": {
    "scrolled": true
   },
   "outputs": [
    {
     "ename": "ValueError",
     "evalue": "Cannot calculate Cumulative Gains for data with 30256 category/ies",
     "output_type": "error",
     "traceback": [
      "\u001b[0;31m---------------------------------------------------------------------------\u001b[0m",
      "\u001b[0;31mValueError\u001b[0m                                Traceback (most recent call last)",
      "Input \u001b[0;32mIn [77]\u001b[0m, in \u001b[0;36m<cell line: 1>\u001b[0;34m()\u001b[0m\n\u001b[0;32m----> 1\u001b[0m \u001b[43mskplt\u001b[49m\u001b[38;5;241;43m.\u001b[39;49m\u001b[43mmetrics\u001b[49m\u001b[38;5;241;43m.\u001b[39;49m\u001b[43mplot_cumulative_gain\u001b[49m\u001b[43m(\u001b[49m\u001b[43m \u001b[49m\u001b[43my_val\u001b[49m\u001b[43m,\u001b[49m\u001b[43m \u001b[49m\u001b[43myhat_knn\u001b[49m\u001b[43m)\u001b[49m\n",
      "File \u001b[0;32m~/.pyenv/versions/3.10.0/envs/Health_Ins_Pred/lib/python3.10/site-packages/scikitplot/metrics.py:1102\u001b[0m, in \u001b[0;36mplot_cumulative_gain\u001b[0;34m(y_true, y_probas, title, ax, figsize, title_fontsize, text_fontsize)\u001b[0m\n\u001b[1;32m   1100\u001b[0m classes \u001b[38;5;241m=\u001b[39m np\u001b[38;5;241m.\u001b[39munique(y_true)\n\u001b[1;32m   1101\u001b[0m \u001b[38;5;28;01mif\u001b[39;00m \u001b[38;5;28mlen\u001b[39m(classes) \u001b[38;5;241m!=\u001b[39m \u001b[38;5;241m2\u001b[39m:\n\u001b[0;32m-> 1102\u001b[0m     \u001b[38;5;28;01mraise\u001b[39;00m \u001b[38;5;167;01mValueError\u001b[39;00m(\u001b[38;5;124m'\u001b[39m\u001b[38;5;124mCannot calculate Cumulative Gains for data with \u001b[39m\u001b[38;5;124m'\u001b[39m\n\u001b[1;32m   1103\u001b[0m                      \u001b[38;5;124m'\u001b[39m\u001b[38;5;132;01m{}\u001b[39;00m\u001b[38;5;124m category/ies\u001b[39m\u001b[38;5;124m'\u001b[39m\u001b[38;5;241m.\u001b[39mformat(\u001b[38;5;28mlen\u001b[39m(classes)))\n\u001b[1;32m   1105\u001b[0m \u001b[38;5;66;03m# Compute Cumulative Gain Curves\u001b[39;00m\n\u001b[1;32m   1106\u001b[0m percentages, gains1 \u001b[38;5;241m=\u001b[39m cumulative_gain_curve(y_true, y_probas[:, \u001b[38;5;241m0\u001b[39m],\n\u001b[1;32m   1107\u001b[0m                                             classes[\u001b[38;5;241m0\u001b[39m])\n",
      "\u001b[0;31mValueError\u001b[0m: Cannot calculate Cumulative Gains for data with 30256 category/ies"
     ]
    }
   ],
   "source": [
    "skplt.metrics.plot_cumulative_gain( y_val, yhat_knn);"
   ]
  },
  {
   "cell_type": "code",
   "execution_count": null,
   "id": "16523384",
   "metadata": {},
   "outputs": [],
   "source": [
    "# 8.0. "
   ]
  },
  {
   "cell_type": "code",
   "execution_count": null,
   "id": "85e301c3",
   "metadata": {},
   "outputs": [],
   "source": [
    "# 9.0. "
   ]
  },
  {
   "cell_type": "code",
   "execution_count": null,
   "id": "1b5c51c9",
   "metadata": {},
   "outputs": [],
   "source": [
    "# 10.0. "
   ]
  },
  {
   "cell_type": "code",
   "execution_count": null,
   "id": "0058a8ca",
   "metadata": {},
   "outputs": [],
   "source": []
  },
  {
   "cell_type": "code",
   "execution_count": null,
   "id": "5a306d0d",
   "metadata": {},
   "outputs": [],
   "source": []
  },
  {
   "cell_type": "code",
   "execution_count": null,
   "id": "b7f602d2",
   "metadata": {},
   "outputs": [],
   "source": []
  },
  {
   "cell_type": "code",
   "execution_count": null,
   "id": "9cf1efe4",
   "metadata": {},
   "outputs": [],
   "source": []
  },
  {
   "cell_type": "code",
   "execution_count": null,
   "id": "69f255a6",
   "metadata": {},
   "outputs": [],
   "source": []
  },
  {
   "cell_type": "code",
   "execution_count": null,
   "id": "86391d98",
   "metadata": {},
   "outputs": [],
   "source": []
  },
  {
   "cell_type": "code",
   "execution_count": null,
   "id": "794e6311",
   "metadata": {},
   "outputs": [],
   "source": []
  },
  {
   "cell_type": "code",
   "execution_count": null,
   "id": "6ec42d2c",
   "metadata": {},
   "outputs": [],
   "source": []
  }
 ],
 "metadata": {
  "kernelspec": {
   "display_name": "Python 3 (ipykernel)",
   "language": "python",
   "name": "python3"
  },
  "language_info": {
   "codemirror_mode": {
    "name": "ipython",
    "version": 3
   },
   "file_extension": ".py",
   "mimetype": "text/x-python",
   "name": "python",
   "nbconvert_exporter": "python",
   "pygments_lexer": "ipython3",
   "version": "3.10.0"
  }
 },
 "nbformat": 4,
 "nbformat_minor": 5
}
